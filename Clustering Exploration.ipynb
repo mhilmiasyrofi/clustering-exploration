{
 "cells": [
  {
   "cell_type": "markdown",
   "metadata": {},
   "source": [
    "# Clustering Exploration"
   ]
  },
  {
   "cell_type": "markdown",
   "metadata": {},
   "source": [
    "### Import Dataset"
   ]
  },
  {
   "cell_type": "code",
   "execution_count": 13,
   "metadata": {},
   "outputs": [],
   "source": [
    "import pandas as pd \n",
    "import numpy as np\n",
    "\n",
    "\n",
    "df = pd.read_csv('dataset/tennis.csv')\n",
    "df = df.drop('day', axis = 1)\n",
    "\n",
    "features = df.drop('play', axis = 1)\n",
    "labels = df.drop(list(features), axis = 1)"
   ]
  },
  {
   "cell_type": "code",
   "execution_count": 14,
   "metadata": {},
   "outputs": [
    {
     "data": {
      "text/html": [
       "<div>\n",
       "<style scoped>\n",
       "    .dataframe tbody tr th:only-of-type {\n",
       "        vertical-align: middle;\n",
       "    }\n",
       "\n",
       "    .dataframe tbody tr th {\n",
       "        vertical-align: top;\n",
       "    }\n",
       "\n",
       "    .dataframe thead th {\n",
       "        text-align: right;\n",
       "    }\n",
       "</style>\n",
       "<table border=\"1\" class=\"dataframe\">\n",
       "  <thead>\n",
       "    <tr style=\"text-align: right;\">\n",
       "      <th></th>\n",
       "      <th>play</th>\n",
       "    </tr>\n",
       "  </thead>\n",
       "  <tbody>\n",
       "    <tr>\n",
       "      <th>0</th>\n",
       "      <td>No</td>\n",
       "    </tr>\n",
       "    <tr>\n",
       "      <th>1</th>\n",
       "      <td>No</td>\n",
       "    </tr>\n",
       "    <tr>\n",
       "      <th>2</th>\n",
       "      <td>Yes</td>\n",
       "    </tr>\n",
       "    <tr>\n",
       "      <th>3</th>\n",
       "      <td>Yes</td>\n",
       "    </tr>\n",
       "    <tr>\n",
       "      <th>4</th>\n",
       "      <td>Yes</td>\n",
       "    </tr>\n",
       "  </tbody>\n",
       "</table>\n",
       "</div>"
      ],
      "text/plain": [
       "  play\n",
       "0   No\n",
       "1   No\n",
       "2  Yes\n",
       "3  Yes\n",
       "4  Yes"
      ]
     },
     "execution_count": 14,
     "metadata": {},
     "output_type": "execute_result"
    }
   ],
   "source": [
    "df.head(5)\n",
    "features.head(5)\n",
    "labels.head(5)"
   ]
  },
  {
   "cell_type": "markdown",
   "metadata": {},
   "source": [
    "### One Hot Encoder \n",
    "\n",
    "Konversi data kategorik menjadi diskrit"
   ]
  },
  {
   "cell_type": "code",
   "execution_count": 48,
   "metadata": {},
   "outputs": [
    {
     "data": {
      "text/plain": [
       "array([[ 0.,  0.,  1.,  0.,  1.,  0.,  1.,  0.,  0.,  1.],\n",
       "       [ 0.,  0.,  1.,  0.,  1.,  0.,  1.,  0.,  1.,  0.],\n",
       "       [ 1.,  0.,  0.,  0.,  1.,  0.,  1.,  0.,  0.,  1.],\n",
       "       [ 0.,  1.,  0.,  0.,  0.,  1.,  1.,  0.,  0.,  1.],\n",
       "       [ 0.,  1.,  0.,  1.,  0.,  0.,  0.,  1.,  0.,  1.],\n",
       "       [ 0.,  1.,  0.,  1.,  0.,  0.,  0.,  1.,  1.,  0.],\n",
       "       [ 1.,  0.,  0.,  1.,  0.,  0.,  0.,  1.,  1.,  0.],\n",
       "       [ 0.,  0.,  1.,  0.,  0.,  1.,  1.,  0.,  0.,  1.],\n",
       "       [ 0.,  0.,  1.,  1.,  0.,  0.,  0.,  1.,  0.,  1.],\n",
       "       [ 0.,  1.,  0.,  0.,  0.,  1.,  0.,  1.,  0.,  1.],\n",
       "       [ 0.,  0.,  1.,  0.,  0.,  1.,  0.,  1.,  1.,  0.],\n",
       "       [ 1.,  0.,  0.,  0.,  0.,  1.,  1.,  0.,  1.,  0.],\n",
       "       [ 1.,  0.,  0.,  0.,  1.,  0.,  0.,  1.,  0.,  1.],\n",
       "       [ 0.,  1.,  0.,  0.,  0.,  1.,  1.,  0.,  1.,  0.]])"
      ]
     },
     "execution_count": 48,
     "metadata": {},
     "output_type": "execute_result"
    }
   ],
   "source": [
    "from sklearn.preprocessing import LabelEncoder, OneHotEncoder\n",
    "\n",
    "# le = LabelEncoder()\n",
    "# column_mask = []\n",
    "# cat_columns = list(features.select_dtypes(include=['category','object']))\n",
    "# for column_name in list(features.columns.values):\n",
    "#     column_mask.append(column_name in cat_columns)\n",
    "# ohe = OneHotEncoder(categorical_features = column_mask)    \n",
    "# for feature in list(features):    \n",
    "#     features[feature] = le.fit_transform(features[feature]).astype(np.int8)\n",
    "features = features.apply(le.fit_transform)\n",
    "features.head()\n",
    "\n",
    "# ohe = OneHotEncoder(categorical_features = column_mask)\n",
    "# encoded = ohe.fit_transform(features)\n",
    "\n",
    "# TODO: create a OneHotEncoder object, and fit it to all of X\n",
    "\n",
    "# 1. INSTANTIATE\n",
    "enc = OneHotEncoder()\n",
    "\n",
    "# 2. FIT\n",
    "enc.fit(features)\n",
    "\n",
    "# 3. Transform\n",
    "onehotlabels = enc.transform(features).toarray()\n",
    "onehotlabels.shape\n",
    "\n",
    "onehotlabels\n"
   ]
  }
 ],
 "metadata": {
  "kernelspec": {
   "display_name": "Python 3",
   "language": "python",
   "name": "python3"
  },
  "language_info": {
   "codemirror_mode": {
    "name": "ipython",
    "version": 3
   },
   "file_extension": ".py",
   "mimetype": "text/x-python",
   "name": "python",
   "nbconvert_exporter": "python",
   "pygments_lexer": "ipython3",
   "version": "3.5.2"
  }
 },
 "nbformat": 4,
 "nbformat_minor": 2
}
